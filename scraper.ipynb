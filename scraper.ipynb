{
 "cells": [
  {
   "cell_type": "markdown",
   "metadata": {},
   "source": [
    "### Import bibliotek"
   ]
  },
  {
   "cell_type": "code",
   "execution_count": 24,
   "metadata": {},
   "outputs": [],
   "source": [
    "import requests\n",
    "from bs4 import BeautifulSoup\n",
    "import json\n",
    "import os"
   ]
  },
  {
   "cell_type": "markdown",
   "metadata": {},
   "source": [
    "NARZĘDZIA"
   ]
  },
  {
   "cell_type": "code",
   "execution_count": 25,
   "metadata": {},
   "outputs": [],
   "source": [
    "def extract(ancestor, selector, attribute=None, many=False):\n",
    "    if selector:\n",
    "      if many:\n",
    "         if attribute:\n",
    "               return [item[attribute].strip() for item in ancestor.select(selector)]\n",
    "\n",
    "         return [item.text.strip() for item in ancestor.select(selector)]\n",
    "      if attribute:\n",
    "          try: \n",
    "              return ancestor.select_one(selector)[attribute].strip()\n",
    "          except TypeError:\n",
    "             return None\n",
    "      try: \n",
    "          return ancestor.select_one(selector).text.strip()\n",
    "      except AttributeError:\n",
    "         return None\n",
    "    if attribute:\n",
    "       try:\n",
    "          return ancestor[attribute]\n",
    "       except TypeError:\n",
    "          return None\n",
    "    return ancestor.text.strip()\n",
    "   \n",
    "    \n",
    "      "
   ]
  },
  {
   "cell_type": "code",
   "execution_count": 26,
   "metadata": {},
   "outputs": [],
   "source": [
    "review_schema = {\n",
    "    \"review_id\": (None, 'data-entry-id'),\n",
    "    \"author\": (\"span.user-post__author-name\",),\n",
    "    \"recommendation\": (\"span.user-post__author-recomendation > em\",),\n",
    "    \"stars\": (\"span.user-post__score-count\",),\n",
    "    \"content\": (\"div.user-post__text\",),\n",
    "    \"pros\": (\"div.review-feature__item--positive\", None, True),\n",
    "    \"cons\": (\"div.review-feature__item--negative\", None, True),\n",
    "    \"likes\": (\"button.vote-yes > span\",),\n",
    "    \"dislikes\": (\"button.vote-no > span\",),\n",
    "    \"publish_date\": (\"span.user-post__published > time:nth-child(1)\",'datetime'),\n",
    "    \"purchase_date\": (\"span.user-post__published > time:nth-child(2)\",'datetime'),\n",
    "}"
   ]
  },
  {
   "cell_type": "markdown",
   "metadata": {},
   "source": [
    "Headers json"
   ]
  },
  {
   "cell_type": "code",
   "execution_count": 27,
   "metadata": {},
   "outputs": [],
   "source": [
    "with open(\"./headers.json\", \"r\") as f:\n",
    "    headers = json.load(f)"
   ]
  },
  {
   "cell_type": "markdown",
   "metadata": {},
   "source": [
    "pętla - kroki 1-4 z readme"
   ]
  },
  {
   "cell_type": "code",
   "execution_count": 28,
   "metadata": {},
   "outputs": [
    {
     "name": "stdout",
     "output_type": "stream",
     "text": [
      "https://www.ceneo.pl/178346457#tab=reviews\n",
      "4\n",
      "[{'review_id': '19493916', 'author': 'b...9', 'recommendation': 'Polecam', 'stars': '5/5', 'content': 'Dobra, głęboka analiza, realistyczna. Zawsze takie głosy są odosobnione.', 'pros': ['akcja', 'fabuła', 'jakość wydania'], 'cons': [], 'likes': '0', 'dislikes': '0', 'publish_date': '2025-03-06 08:27:28', 'purchase_date': '2025-02-27 11:00:47'}, {'review_id': '19476757', 'author': 'y...2', 'recommendation': 'Polecam', 'stars': '5/5', 'content': 'Obowiązkowa pozycja dla tych, co chcą zrozumieć świat.', 'pros': ['akcja', 'fabuła', 'jakość wydania'], 'cons': [], 'likes': '1', 'dislikes': '0', 'publish_date': '2025-02-26 11:19:04', 'purchase_date': '2025-02-14 11:53:54'}, {'review_id': '19504384', 'author': 'Joanna', 'recommendation': 'Polecam', 'stars': '5/5', 'content': 'książka bardzo ciekawa, prezent dla taty ;-)', 'pros': [], 'cons': [], 'likes': '1', 'dislikes': '0', 'publish_date': '2025-03-11 21:04:50', 'purchase_date': '2025-03-04 23:40:30'}, {'review_id': '19492897', 'author': 'j...n', 'recommendation': None, 'stars': '3,5/5', 'content': 'mm', 'pros': [], 'cons': [], 'likes': '0', 'dislikes': '0', 'publish_date': '2025-03-05 19:41:37', 'purchase_date': '2025-02-26 01:10:30'}]\n"
     ]
    }
   ],
   "source": [
    "product_id = \"178346457\"\n",
    "next_page = f\"https://www.ceneo.pl/{product_id}#tab=reviews\"\n",
    "all_reviews = []\n",
    "while next_page:\n",
    "    response = requests.get(next_page, headers=headers)\n",
    "    print(next_page)\n",
    "    if response.status_code == 200:\n",
    "        page_dom = BeautifulSoup(response.text, \"html.parser\")\n",
    "        reviews = page_dom.select(\"div.js_product-review:not(.user-post--highlight)\")\n",
    "        print(len(reviews))\n",
    "        for review in reviews:\n",
    "           single_review = {\n",
    "              key: extract(review, *value)\n",
    "              for key, value in review_schema.items()\n",
    "           }\n",
    "           all_reviews.append(single_review)\n",
    "            \n",
    "        try:\n",
    "           next_page = \"https://www.ceneo.pl\"+extract(page_dom, \"a.pagination__next\",\"href\")\n",
    "        except TypeError:\n",
    "          next_page = None\n",
    "        print(all_reviews)\n",
    "\n",
    "\n",
    "        \n",
    "\n",
    "   \n",
    "\n",
    "\n",
    "\n",
    "\n"
   ]
  },
  {
   "cell_type": "markdown",
   "metadata": {},
   "source": [
    "Zapisanie wszystkich opinii w bazie danych"
   ]
  },
  {
   "cell_type": "code",
   "execution_count": 29,
   "metadata": {},
   "outputs": [],
   "source": [
    "if not os.path.exists(\"./opinions\"):\n",
    "    os.mkdir(\"./opinions\")"
   ]
  },
  {
   "cell_type": "code",
   "execution_count": 30,
   "metadata": {},
   "outputs": [],
   "source": [
    "with open(f\"./opinions/{product_id}.json\", \"w\", encoding=\"UTF-8\") as f:\n",
    "    json.dump(all_reviews,f,indent=4,ensure_ascii=False)"
   ]
  }
 ],
 "metadata": {
  "kernelspec": {
   "display_name": ".venv",
   "language": "python",
   "name": "python3"
  },
  "language_info": {
   "codemirror_mode": {
    "name": "ipython",
    "version": 3
   },
   "file_extension": ".py",
   "mimetype": "text/x-python",
   "name": "python",
   "nbconvert_exporter": "python",
   "pygments_lexer": "ipython3",
   "version": "3.11.4"
  }
 },
 "nbformat": 4,
 "nbformat_minor": 2
}
