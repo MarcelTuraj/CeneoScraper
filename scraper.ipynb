{
 "cells": [
  {
   "cell_type": "markdown",
   "metadata": {},
   "source": [
    "### Import bibliotek"
   ]
  },
  {
   "cell_type": "code",
   "execution_count": 15,
   "metadata": {},
   "outputs": [],
   "source": [
    "import requests\n",
    "from bs4 import BeautifulSoup\n",
    "import json\n",
    "import os"
   ]
  },
  {
   "cell_type": "markdown",
   "metadata": {},
   "source": [
    "NARZĘDZIA"
   ]
  },
  {
   "cell_type": "code",
   "execution_count": 16,
   "metadata": {},
   "outputs": [],
   "source": [
    "def extract(ancestor, selector=None, attribute=None, many=False):\n",
    "    if selector:\n",
    "        if many:\n",
    "            if attribute:\n",
    "                return [item[attribute].strip() for item in ancestor.select(selector)]\n",
    "            return [item.text.strip() for item in ancestor.select(selector)]\n",
    "        if attribute:\n",
    "            try:\n",
    "                return ancestor.select_one(selector)[attribute].strip()\n",
    "            except TypeError:\n",
    "                return None\n",
    "        try:\n",
    "            return ancestor.select_one(selector).text.strip()\n",
    "        except AttributeError:\n",
    "            return None\n",
    "    if attribute:\n",
    "        try:\n",
    "            return ancestor[attribute]\n",
    "        except TypeError:\n",
    "            return None\n",
    "    return ancestor.text.strip()\n",
    "    \n",
    "      "
   ]
  },
  {
   "cell_type": "code",
   "execution_count": 17,
   "metadata": {},
   "outputs": [],
   "source": [
    "review_schema = {\n",
    "    \"review_id\": (None, 'data-entry-id'),\n",
    "    \"author\": (\"span.user-post__author-name\",),\n",
    "    \"recomendation\": (\"span.user-post__author-recomendation > em\",),\n",
    "    \"stars\": (\"span.user-post__score-count\",),\n",
    "    \"content\": (\"div.user-post__text\",),\n",
    "    \"pros\": (\"div.review-feature__item--positive\", None, True),\n",
    "    \"cons\": (\"div.review-feature__item--negative\", None, True),\n",
    "    \"likes\": (\"button.vote-yes > span\",),\n",
    "    \"dislikes\": (\"button.vote-no > span\",),\n",
    "    \"publish_date\": (\"span.user-post__published > time:nth-child(1)\",'datetime'),\n",
    "    \"purchase_date\": (\"span.user-post__published > time:nth-child(2)\",'datetime'),\n",
    "}"
   ]
  },
  {
   "cell_type": "markdown",
   "metadata": {},
   "source": [
    "Headers json"
   ]
  },
  {
   "cell_type": "code",
   "execution_count": 18,
   "metadata": {},
   "outputs": [],
   "source": [
    "with open(\"./headers.json\", \"r\") as f:\n",
    "    headers = json.load(f)"
   ]
  },
  {
   "cell_type": "markdown",
   "metadata": {},
   "source": [
    "pętla - kroki 1-4 z readme"
   ]
  },
  {
   "cell_type": "code",
   "execution_count": 19,
   "metadata": {},
   "outputs": [
    {
     "name": "stdout",
     "output_type": "stream",
     "text": [
      "https://www.ceneo.pl/110556593#tab=reviews\n",
      "10\n",
      "https://www.ceneo.pl/110556593/opinie-2\n",
      "0\n"
     ]
    }
   ],
   "source": [
    "product_id = input(\"Podaj kod produktu: \")\n",
    "next_page = f\"https://www.ceneo.pl/{product_id}#tab=reviews\"\n",
    "all_reviews = []\n",
    "while next_page:\n",
    "    response = requests.get(next_page, headers=headers)\n",
    "    print(next_page)\n",
    "    if response.status_code == 200:\n",
    "        page_dom = BeautifulSoup(response.text, \"html.parser\")\n",
    "        reviews = page_dom.select(\"div.js_product-review:not(.user-post--highlight)\")\n",
    "        print(len(reviews))\n",
    "        for review in reviews:\n",
    "            single_review = {\n",
    "                key: extract(review, *value)\n",
    "                for key, value in review_schema.items()\n",
    "\n",
    "            }\n",
    "            all_reviews.append(single_review)\n",
    "        try:\n",
    "            next_page = \"https://www.ceneo.pl\"+extract(page_dom, \"a.pagination__next\", \"href\")\n",
    "        except TypeError:\n",
    "            next_page = None       \n",
    "\n",
    "        \n",
    "\n",
    "   \n",
    "\n",
    "\n",
    "\n",
    "\n"
   ]
  },
  {
   "cell_type": "markdown",
   "metadata": {},
   "source": [
    "Zapisanie wszystkich opinii w bazie danych"
   ]
  },
  {
   "cell_type": "code",
   "execution_count": 20,
   "metadata": {},
   "outputs": [],
   "source": [
    "if not os.path.exists(\"./opinions\"):\n",
    "    os.mkdir(\"./opinions\")"
   ]
  },
  {
   "cell_type": "code",
   "execution_count": 21,
   "metadata": {},
   "outputs": [],
   "source": [
    "with open(f\"./opinions/{product_id}.json\", \"w\", encoding=\"UTF-8\") as f:\n",
    "    json.dump(all_reviews,f,indent=4,ensure_ascii=False)"
   ]
  }
 ],
 "metadata": {
  "kernelspec": {
   "display_name": ".venv",
   "language": "python",
   "name": "python3"
  },
  "language_info": {
   "codemirror_mode": {
    "name": "ipython",
    "version": 3
   },
   "file_extension": ".py",
   "mimetype": "text/x-python",
   "name": "python",
   "nbconvert_exporter": "python",
   "pygments_lexer": "ipython3",
   "version": "3.11.4"
  }
 },
 "nbformat": 4,
 "nbformat_minor": 2
}
